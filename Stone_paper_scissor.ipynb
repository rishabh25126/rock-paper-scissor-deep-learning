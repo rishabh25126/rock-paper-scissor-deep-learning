{
 "cells": [
  {
   "cell_type": "code",
   "execution_count": 1,
   "metadata": {
    "colab": {},
    "colab_type": "code",
    "id": "RCJBfzlxRH2k"
   },
   "outputs": [],
   "source": [
    "import numpy as np\n",
    "import pandas as pd\n",
    "import matplotlib.pyplot as plt\n",
    "\n",
    "import tensorflow as tf\n",
    "\n",
    "import cv2\n",
    "import os"
   ]
  },
  {
   "cell_type": "code",
   "execution_count": 2,
   "metadata": {
    "colab": {
     "base_uri": "https://localhost:8080/",
     "height": 231
    },
    "colab_type": "code",
    "id": "SnQbRVteRd_J",
    "outputId": "674e36ac-5aad-4766-8c02-cf1baa32fdb6"
   },
   "outputs": [],
   "source": [
    "IMG_SAVE_PATH = 'images'\n",
    "CLASS_MAP = {\n",
    "    \"rock\": 0,\n",
    "    \"paper\": 1,\n",
    "    \"scissor\": 2,\n",
    "    \"none\":3\n",
    "}\n",
    "NUM_CLASSES = len(CLASS_MAP)\n",
    "def mapper(val):\n",
    "    return CLASS_MAP[val]"
   ]
  },
  {
   "cell_type": "code",
   "execution_count": 3,
   "metadata": {
    "colab": {},
    "colab_type": "code",
    "id": "92LpiM6KR3tq"
   },
   "outputs": [],
   "source": [
    "# load images from the directory\n",
    "dataset = []\n",
    "for directory in os.listdir(IMG_SAVE_PATH):\n",
    "    path = os.path.join(IMG_SAVE_PATH, directory)\n",
    "    if not os.path.isdir(path):\n",
    "        continue\n",
    "    for item in os.listdir(path):\n",
    "        # to make sure no hidden files get in our way\n",
    "        if item.startswith(\".\"):\n",
    "            continue\n",
    "        img = cv2.imread(os.path.join(path, item),0)\n",
    "        img = cv2.resize(img, (50, 50))\n",
    "        dataset.append([img, directory])"
   ]
  },
  {
   "cell_type": "code",
   "execution_count": 4,
   "metadata": {},
   "outputs": [
    {
     "name": "stdout",
     "output_type": "stream",
     "text": [
      "(2000, 50, 50)\n",
      "(2000, 50, 50, 1)\n"
     ]
    }
   ],
   "source": [
    "data, labels = zip(*dataset)\n",
    "labels = list(map(mapper, labels))\n",
    "data = np.array(data)\n",
    "labels = np.array(labels)\n",
    "print(data.shape)\n",
    "data = data.reshape(2000,50,50,1)\n",
    "print(data.shape)"
   ]
  },
  {
   "cell_type": "code",
   "execution_count": 5,
   "metadata": {},
   "outputs": [
    {
     "data": {
      "text/plain": [
       "<matplotlib.image.AxesImage at 0x1b7eb29b6c8>"
      ]
     },
     "execution_count": 5,
     "metadata": {},
     "output_type": "execute_result"
    },
    {
     "data": {
      "image/png": "[encoded data removed]",
      "text/plain": [
       "<Figure size 432x288 with 1 Axes>"
      ]
     },
     "metadata": {
      "needs_background": "light"
     },
     "output_type": "display_data"
    }
   ],
   "source": [
    "plt.imshow(data[500])"
   ]
  },
  {
   "cell_type": "code",
   "execution_count": 6,
   "metadata": {},
   "outputs": [
    {
     "name": "stdout",
     "output_type": "stream",
     "text": [
      "Epoch 1/5\n",
      "63/63 [==============================] - 22s 354ms/step - loss: 2.0226 - accuracy: 0.6735\n",
      "Epoch 2/5\n",
      "63/63 [==============================] - 22s 352ms/step - loss: 0.1766 - accuracy: 0.9470\n",
      "Epoch 3/5\n",
      "63/63 [==============================] - 20s 319ms/step - loss: 0.0628 - accuracy: 0.9850s - loss: 0.0628 - accuracy: 0.98\n",
      "Epoch 4/5\n",
      "63/63 [==============================] - 21s 328ms/step - loss: 0.0222 - accuracy: 0.9955\n",
      "Epoch 5/5\n",
      "63/63 [==============================] - 20s 318ms/step - loss: 0.0194 - accuracy: 0.9940\n"
     ]
    },
    {
     "data": {
      "text/plain": [
       "([0, 1, 2, 3, 4], 0.9940000176429749)"
      ]
     },
     "execution_count": 6,
     "metadata": {},
     "output_type": "execute_result"
    }
   ],
   "source": [
    "model = tf.keras.models.Sequential([\n",
    "            # YOUR CODE STARTS HERE\n",
    "  tf.keras.layers.Conv2D(64, (3,3), activation='relu', input_shape=(50,50,1)),\n",
    "  tf.keras.layers.MaxPooling2D(2, 2),\n",
    "  tf.keras.layers.Conv2D(64, (3,3), activation='relu'),\n",
    "  tf.keras.layers.MaxPooling2D(2,2),\n",
    "  tf.keras.layers.Conv2D(64, (3,3), activation='relu'),\n",
    "  tf.keras.layers.MaxPooling2D(2,2),\n",
    "  tf.keras.layers.Flatten(),\n",
    "  tf.keras.layers.Dense(128, activation='relu'),\n",
    "  tf.keras.layers.Dense(4, activation='softmax')\n",
    "            # YOUR CODE ENDS HERE\n",
    "    ])\n",
    "model.compile(optimizer='adam', loss='sparse_categorical_crossentropy', metrics=['accuracy'])\n",
    "\n",
    "history = model.fit(data, labels, epochs=5)\n",
    "# save the model for later use\n",
    "model.save(\"rock-paper-scissors-model.h5\")\n",
    "\n",
    "history.epoch, history.history['accuracy'][-1]"
   ]
  },
  {
   "cell_type": "code",
   "execution_count": 7,
   "metadata": {},
   "outputs": [],
   "source": [
    "MAP_CLASS = {\n",
    "    0 : \"rock\",\n",
    "    1: \"paper\",\n",
    "    2: \"scissor\",\n",
    "    3:\"none\"\n",
    "}"
   ]
  },
  {
   "cell_type": "code",
   "execution_count": 8,
   "metadata": {},
   "outputs": [
    {
     "name": "stdout",
     "output_type": "stream",
     "text": [
      "[[6.5363740e-05 7.4915108e-05 3.8880442e-04 9.9947089e-01]] Max:  0.9994709\n",
      "Result:  none\n",
      "[[6.845355e-05 7.708494e-05 3.995359e-04 9.994549e-01]] Max:  0.9994549\n",
      "Result:  none\n",
      "[[6.4223517e-05 7.5845965e-05 3.9299956e-04 9.9946696e-01]] Max:  0.99946696\n",
      "Result:  none\n",
      "[[6.1495855e-05 9.9990952e-01 2.8536713e-05 5.0760724e-07]] Max:  0.9999095\n",
      "Result:  paper\n",
      "[[2.3498745e-03 9.3862758e-04 9.9604625e-01 6.6531595e-04]] Max:  0.99604625\n",
      "Result:  scissor\n",
      "[[0.5069102  0.00074532 0.49124253 0.0011019 ]] Max:  0.5069102\n",
      "Result:  rock\n",
      "[[8.6186165e-01 6.1100244e-04 1.3713728e-01 3.9006496e-04]] Max:  0.86186165\n",
      "Result:  rock\n",
      "[[9.9888259e-01 1.0309252e-03 8.2239130e-05 4.1170847e-06]] Max:  0.9988826\n",
      "Result:  rock\n",
      "[[9.9819607e-01 7.7104528e-04 9.9053420e-04 4.2415275e-05]] Max:  0.99819607\n",
      "Result:  rock\n",
      "[[2.3696966e-04 9.9693537e-01 2.5307252e-03 2.9685741e-04]] Max:  0.99693537\n",
      "Result:  paper\n",
      "[[4.4634429e-04 9.9835086e-01 1.1456916e-03 5.7087018e-05]] Max:  0.99835086\n",
      "Result:  paper\n",
      "[[5.5134231e-01 4.4865426e-01 3.3852616e-06 1.3476527e-09]] Max:  0.5513423\n",
      "Result:  rock\n",
      "[[7.0707297e-01 2.9292396e-01 3.0604638e-06 1.8067328e-10]] Max:  0.707073\n",
      "Result:  rock\n",
      "[[7.3471245e-05 2.4831177e-05 2.3812721e-04 9.9966359e-01]] Max:  0.9996636\n",
      "Result:  none\n",
      "[[6.784359e-05 2.035430e-05 2.081813e-04 9.997036e-01]] Max:  0.9997036\n",
      "Result:  none\n",
      "[[6.1448652e-02 9.3807942e-01 4.7111438e-04 8.0576569e-07]] Max:  0.9380794\n",
      "Result:  paper\n",
      "[[0.42991146 0.49906716 0.06965039 0.00137101]] Max:  0.49906716\n",
      "Result:  paper\n",
      "[[0.4177094  0.50474757 0.07647375 0.00106926]] Max:  0.50474757\n",
      "Result:  paper\n",
      "[[0.37358347 0.56509936 0.06025304 0.00106407]] Max:  0.56509936\n",
      "Result:  paper\n",
      "[[2.4834060e-07 1.5053772e-07 6.4155101e-06 9.9999321e-01]] Max:  0.9999932\n",
      "Result:  none\n"
     ]
    }
   ],
   "source": [
    "# Capture Video\n",
    "cap = cv2.VideoCapture(0)\n",
    "\n",
    "\n",
    "while True:\n",
    "    # Capture frame-by-frame\n",
    "    ret, frame = cap.read()\n",
    "     # Our operations on the frame come here\n",
    "    gray = cv2.cvtColor(frame, cv2.COLOR_BGR2GRAY)\n",
    "    \n",
    "    image = cv2.rectangle(gray, (5, 5) , (220, 220) , (255, 0, 0) , 2)  \n",
    "\n",
    "    # Display the resulting frame\n",
    "    cv2.imshow('frame',image)\n",
    "    if cv2.waitKey(1) & 0xFF == ord('a'):\n",
    "        start = True\n",
    "        image_model = image[5:220,5:220]\n",
    "        image_model = cv2.resize(image_model, (50, 50))\n",
    "        image_model = image_model.reshape(1,50,50,1)\n",
    "        pred = model.predict(image_model)\n",
    "        findd = np.array(pred[0])\n",
    "        result = np.where(findd == max(findd))\n",
    "        print(\"Result: \", MAP_CLASS[result[0][0]])\n",
    "    if cv2.waitKey(1) & 0xFF == ord('q'):\n",
    "        break\n",
    "\n",
    "# When everything done, release the capture\n",
    "cap.release()\n",
    "cv2.destroyAllWindows()"
   ]
  },
  {
   "cell_type": "code",
   "execution_count": null,
   "metadata": {},
   "outputs": [],
   "source": []
  },
  {
   "cell_type": "code",
   "execution_count": null,
   "metadata": {},
   "outputs": [],
   "source": []
  },
  {
   "cell_type": "code",
   "execution_count": null,
   "metadata": {},
   "outputs": [],
   "source": []
  }
 ],
 "metadata": {
  "colab": {
   "name": "Stone_paper_scissor.ipynb",
   "provenance": []
  },
  "kernelspec": {
   "display_name": "Python 3",
   "language": "python",
   "name": "python3"
  },
  "language_info": {
   "codemirror_mode": {
    "name": "ipython",
    "version": 3
   },
   "file_extension": ".py",
   "mimetype": "text/x-python",
   "name": "python",
   "nbconvert_exporter": "python",
   "pygments_lexer": "ipython3",
   "version": "3.7.9"
  }
 },
 "nbformat": 4,
 "nbformat_minor": 1
}
